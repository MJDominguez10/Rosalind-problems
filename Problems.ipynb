{
 "cells": [
  {
   "cell_type": "markdown",
   "metadata": {},
   "source": [
    "# Rosalind´s problems\n",
    "In order to refresh my skills using Python, I have done some of the Rosalind´problem and somes personal problems that I have found interesting and conveninet"
   ]
  },
  {
   "cell_type": "markdown",
   "metadata": {},
   "source": [
    "## Problem 1\n",
    "\n",
    "A string is simply an ordered collection of symbols selected from some alphabet and formed into a word; the length of a string is the number of symbols that it contains.\n",
    "\n",
    "An example of a length 21 DNA string (whose alphabet contains the symbols 'A', 'C', 'G', and 'T') is \"ATGCTTCAGAAAGGTCTTACG.\"\n",
    "\n",
    "Given: A DNA string.\n",
    "Return: The number of each nucleotides"
   ]
  },
  {
   "cell_type": "code",
   "execution_count": 1,
   "metadata": {},
   "outputs": [],
   "source": [
    "# Let's open and see the document provided\n",
    "p1 = open(\"/Users/monkiky/Dropbox/My Mac (Monkikys-MacBook-Pro.local)/Desktop/Rosalind problems/rosalind_dna.txt\",\"r\")"
   ]
  },
  {
   "cell_type": "code",
   "execution_count": 2,
   "metadata": {},
   "outputs": [],
   "source": [
    "file_contents = p1.read()"
   ]
  },
  {
   "cell_type": "code",
   "execution_count": 3,
   "metadata": {},
   "outputs": [
    {
     "name": "stdout",
     "output_type": "stream",
     "text": [
      "TTTCATTGCTAGGAGACCATCAGGGCATCGCTTATTTTTGTGGGACATTGCGTTCGCATCCAGGTCCGTGAAGGCACTCGCAGTGTATTATCTCTTTCTAGATTGTACGTTGCCAAACAACAAGCCTGGACGATTGTTTTGTTACTCAAGTGACTCGTTACAAGCTAAATCACAGAAGGACACTGCCGAAGATGGCTAGAAGAGTTATCTCTAGAGGACCCTCACAAACGTATCTCCGGAAGGGGATACGGGAAACACGCGTTACTGCGAGAAATTCCAAAGGAGTGGCAAAGAGTAGAGAAAACTCTACAGAATGGACTCCTAATCGAATGTGTTCATCCGCCACACACTTGCACCACCTGCATGAGCGAAAAATCCAACGCTTGTTTACTGACCCTATACAACAATACGCAACATACAAGGTATAAGTCTTTCTCGGAATACCATGAGGAGGCTATATTGCTATTGGTCCGAGCACTAATTATTAGCCATATCTTTTGGATAAACTTTCAGGATGAGGAGCGAAATGCTAACATGCCAGTTCGGTCACATTGAACGTTAGAAATGGCTTCCAGTAGGTTCTATAACCATCCAAGTCGCTCAGACTTCTACGCACCACAGTCGCGCCCCGAGTCGTACAATGACCCCGCTCGAAAAAAGGCAAGTAGATCCGACATGAGCGCTTTGTCGTAGCCGGGTCGTTTTTGCACGGATTTTCTCCGAGATCGCTCCGGTTTGTAACCCATAACTGCTGTAGGCGCTCGCGTGTTTCCTGGGCCACTTCGCATCAAGGATGTTTATGCGAATGGACGAACGCCTGTGTGCGAAGTGTTGACATGATCGATATCTTGAGCAGGCAGTTGTTCGTGCCCGCGAGGGCTTCGGCGCTCCCTGGCAAATCCACTACGTG\n",
      "\n"
     ]
    }
   ],
   "source": [
    "print (file_contents)"
   ]
  },
  {
   "cell_type": "code",
   "execution_count": 93,
   "metadata": {},
   "outputs": [
    {
     "name": "stdout",
     "output_type": "stream",
     "text": [
      "In this DNA, we have found 241 A Nucleotides, 221 C nucleotides, 231 T nucleotides, and 217 G nucleotides.\n"
     ]
    }
   ],
   "source": [
    "print(\"In this DNA, we have found\", file_contents.count('A'), \"A Nucleotides,\", file_contents.count('C'),\n",
    "      \"C nucleotides,\", file_contents.count('T'), \"T nucleotides,\", \"and\", \n",
    "      file_contents.count('G'), \"G nucleotides.\")"
   ]
  },
  {
   "cell_type": "code",
   "execution_count": 94,
   "metadata": {},
   "outputs": [
    {
     "data": {
      "text/plain": [
       "241"
      ]
     },
     "execution_count": 94,
     "metadata": {},
     "output_type": "execute_result"
    }
   ],
   "source": [
    "# Same can be done using Biopython.\n",
    "import Bio\n",
    "from Bio.Seq import Seq\n",
    "my_seq = Seq(file_contents)\n",
    "my_seq.count(\"A\")"
   ]
  },
  {
   "cell_type": "markdown",
   "metadata": {},
   "source": [
    "## Problem 2\n",
    "An RNA string is a string formed from the alphabet containing 'A', 'C', 'G', and 'U'.\n",
    "\n",
    "Given a DNA string t corresponding to a coding strand, its transcribed RNA string u is formed by replacing all occurrences of 'T' in t with 'U' in u.\n",
    "\n",
    "Given: A DNA string t having length at most 1000 nt.\n",
    "\n",
    "Return: The transcribed RNA string of t."
   ]
  },
  {
   "cell_type": "code",
   "execution_count": 9,
   "metadata": {},
   "outputs": [
    {
     "data": {
      "text/plain": [
       "'UUUCAUUGCUAGGAGACCAUCAGGGCAUCGCUUAUUUUUGUGGGACAUUGCGUUCGCAUCCAGGUCCGUGAAGGCACUCGCAGUGUAUUAUCUCUUUCUAGAUUGUACGUUGCCAAACAACAAGCCUGGACGAUUGUUUUGUUACUCAAGUGACUCGUUACAAGCUAAAUCACAGAAGGACACUGCCGAAGAUGGCUAGAAGAGUUAUCUCUAGAGGACCCUCACAAACGUAUCUCCGGAAGGGGAUACGGGAAACACGCGUUACUGCGAGAAAUUCCAAAGGAGUGGCAAAGAGUAGAGAAAACUCUACAGAAUGGACUCCUAAUCGAAUGUGUUCAUCCGCCACACACUUGCACCACCUGCAUGAGCGAAAAAUCCAACGCUUGUUUACUGACCCUAUACAACAAUACGCAACAUACAAGGUAUAAGUCUUUCUCGGAAUACCAUGAGGAGGCUAUAUUGCUAUUGGUCCGAGCACUAAUUAUUAGCCAUAUCUUUUGGAUAAACUUUCAGGAUGAGGAGCGAAAUGCUAACAUGCCAGUUCGGUCACAUUGAACGUUAGAAAUGGCUUCCAGUAGGUUCUAUAACCAUCCAAGUCGCUCAGACUUCUACGCACCACAGUCGCGCCCCGAGUCGUACAAUGACCCCGCUCGAAAAAAGGCAAGUAGAUCCGACAUGAGCGCUUUGUCGUAGCCGGGUCGUUUUUGCACGGAUUUUCUCCGAGAUCGCUCCGGUUUGUAACCCAUAACUGCUGUAGGCGCUCGCGUGUUUCCUGGGCCACUUCGCAUCAAGGAUGUUUAUGCGAAUGGACGAACGCCUGUGUGCGAAGUGUUGACAUGAUCGAUAUCUUGAGCAGGCAGUUGUUCGUGCCCGCGAGGGCUUCGGCGCUCCCUGGCAAAUCCACUACGUG\\n'"
      ]
     },
     "execution_count": 9,
     "metadata": {},
     "output_type": "execute_result"
    }
   ],
   "source": [
    "p2=(file_contents.replace('T', 'U'))\n",
    "p2"
   ]
  },
  {
   "cell_type": "code",
   "execution_count": 10,
   "metadata": {},
   "outputs": [
    {
     "data": {
      "text/plain": [
       "Seq('UUUCAUUGCUAGGAGACCAUCAGGGCAUCGCUUAUUUUUGUGGGACAUUGCGUU...UG\n",
       "')"
      ]
     },
     "execution_count": 10,
     "metadata": {},
     "output_type": "execute_result"
    }
   ],
   "source": [
    "# Using Biopython\n",
    "my_seq.transcribe()"
   ]
  },
  {
   "cell_type": "markdown",
   "metadata": {},
   "source": [
    "## Problem 3\n",
    "\n",
    "In DNA strings, symbols 'A' and 'T' are complements of each other, as are 'C' and 'G'.\n",
    "\n",
    "The reverse complement of a DNA string s is the string sc formed by reversing the symbols of s, then taking the complement of each symbol (e.g., the reverse complement of \"GTCA\" is \"TGAC\")."
   ]
  },
  {
   "cell_type": "code",
   "execution_count": 11,
   "metadata": {},
   "outputs": [
    {
     "data": {
      "text/plain": [
       "'\\nCACGTAGTGGATTTGCCAGGGAGCGCCGAAGCCCTCGCGGGCACGAACAACTGCCTGCTCAAGATATCGATCATGTCAACACTTCGCACACAGGCGTTCGTCCATTCGCATAAACATCCTTGATGCGAAGTGGCCCAGGAAACACGCGAGCGCCTACAGCAGTTATGGGTTACAAACCGGAGCGATCTCGGAGAAAATCCGTGCAAAAACGACCCGGCTACGACAAAGCGCTCATGTCGGATCTACTTGCCTTTTTTCGAGCGGGGTCATTGTACGACTCGGGGCGCGACTGTGGTGCGTAGAAGTCTGAGCGACTTGGATGGTTATAGAACCTACTGGAAGCCATTTCTAACGTTCAATGTGACCGAACTGGCATGTTAGCATTTCGCTCCTCATCCTGAAAGTTTATCCAAAAGATATGGCTAATAATTAGTGCTCGGACCAATAGCAATATAGCCTCCTCATGGTATTCCGAGAAAGACTTATACCTTGTATGTTGCGTATTGTTGTATAGGGTCAGTAAACAAGCGTTGGATTTTTCGCTCATGCAGGTGGTGCAAGTGTGTGGCGGATGAACACATTCGATTAGGAGTCCATTCTGTAGAGTTTTCTCTACTCTTTGCCACTCCTTTGGAATTTCTCGCAGTAACGCGTGTTTCCCGTATCCCCTTCCGGAGATACGTTTGTGAGGGTCCTCTAGAGATAACTCTTCTAGCCATCTTCGGCAGTGTCCTTCTGTGATTTAGCTTGTAACGAGTCACTTGAGTAACAAAACAATCGTCCAGGCTTGTTGTTTGGCAACGTACAATCTAGAAAGAGATAATACACTGCGAGTGCCTTCACGGACCTGGATGCGAACGCAATGTCCCACAAAAATAAGCGATGCCCTGATGGTCTCCTAGCAATGAAA'"
      ]
     },
     "execution_count": 11,
     "metadata": {},
     "output_type": "execute_result"
    }
   ],
   "source": [
    "complement = {'A': 'T', 'C': 'G', 'G': 'C', 'T': 'A'}\n",
    "reverse_complement = \"\".join(complement.get(base, base) for base in reversed(file_contents))\n",
    "reverse_complement"
   ]
  },
  {
   "cell_type": "code",
   "execution_count": 12,
   "metadata": {},
   "outputs": [
    {
     "name": "stdout",
     "output_type": "stream",
     "text": [
      "TTTCATTGCTAGGAGACCATCAGGGCATCGCTTATTTTTGTGGGACATTGCGTTCGCATCCAGGTCCGTGAAGGCACTCGCAGTGTATTATCTCTTTCTAGATTGTACGTTGCCAAACAACAAGCCTGGACGATTGTTTTGTTACTCAAGTGACTCGTTACAAGCTAAATCACAGAAGGACACTGCCGAAGATGGCTAGAAGAGTTATCTCTAGAGGACCCTCACAAACGTATCTCCGGAAGGGGATACGGGAAACACGCGTTACTGCGAGAAATTCCAAAGGAGTGGCAAAGAGTAGAGAAAACTCTACAGAATGGACTCCTAATCGAATGTGTTCATCCGCCACACACTTGCACCACCTGCATGAGCGAAAAATCCAACGCTTGTTTACTGACCCTATACAACAATACGCAACATACAAGGTATAAGTCTTTCTCGGAATACCATGAGGAGGCTATATTGCTATTGGTCCGAGCACTAATTATTAGCCATATCTTTTGGATAAACTTTCAGGATGAGGAGCGAAATGCTAACATGCCAGTTCGGTCACATTGAACGTTAGAAATGGCTTCCAGTAGGTTCTATAACCATCCAAGTCGCTCAGACTTCTACGCACCACAGTCGCGCCCCGAGTCGTACAATGACCCCGCTCGAAAAAAGGCAAGTAGATCCGACATGAGCGCTTTGTCGTAGCCGGGTCGTTTTTGCACGGATTTTCTCCGAGATCGCTCCGGTTTGTAACCCATAACTGCTGTAGGCGCTCGCGTGTTTCCTGGGCCACTTCGCATCAAGGATGTTTATGCGAATGGACGAACGCCTGTGTGCGAAGTGTTGACATGATCGATATCTTGAGCAGGCAGTTGTTCGTGCCCGCGAGGGCTTCGGCGCTCCCTGGCAAATCCACTACGTG\n",
      "\n"
     ]
    }
   ],
   "source": [
    "print (file_contents)"
   ]
  },
  {
   "cell_type": "code",
   "execution_count": 13,
   "metadata": {},
   "outputs": [
    {
     "data": {
      "text/plain": [
       "Seq('AAAGTAACGATCCTCTGGTAGTCCCGTAGCGAATAAAAACACCCTGTAACGCAA...AC\n",
       "')"
      ]
     },
     "execution_count": 13,
     "metadata": {},
     "output_type": "execute_result"
    }
   ],
   "source": [
    "# If we want to use biopython\n",
    "my_seq.complement() # This give us the complement"
   ]
  },
  {
   "cell_type": "code",
   "execution_count": 14,
   "metadata": {},
   "outputs": [
    {
     "data": {
      "text/plain": [
       "Seq('\n",
       "CACGTAGTGGATTTGCCAGGGAGCGCCGAAGCCCTCGCGGGCACGAACAACTG...AAA')"
      ]
     },
     "execution_count": 14,
     "metadata": {},
     "output_type": "execute_result"
    }
   ],
   "source": [
    "my_seq.reverse_complement() # And this the complement reverse \n",
    "# Same seq that the \"reverse_complement\" did before."
   ]
  },
  {
   "cell_type": "markdown",
   "metadata": {},
   "source": [
    "## Problem 4\n",
    "A sequence is an ordered collection of objects (usually numbers), which are allowed to repeat. Sequences can be finite or infinite. Two examples are the finite sequence (π,−2‾√,0,π) and the infinite sequence of odd numbers (1,3,5,7,9,…). We use the notation an to represent the n-th term of a sequence.\n",
    "\n",
    "A recurrence relation is a way of defining the terms of a sequence with respect to the values of previous terms. In the case of Fibonacci's rabbits from the introduction, any given month will contain the rabbits that were alive the previous month, plus any new offspring. A key observation is that the number of offspring in any month is equal to the number of rabbits that were alive two months prior. As a result, if Fn represents the number of rabbit pairs alive after the n-th month, then we obtain the Fibonacci sequence having terms Fn that are defined by the recurrence relation Fn=Fn−1+Fn−2 (with F1=F2=1 to initiate the sequence). Although the sequence bears Fibonacci's name, it was known to Indian mathematicians over two millennia ago.\n",
    "\n",
    "When finding the n-th term of a sequence defined by a recurrence relation, we can simply use the recurrence relation to generate terms for progressively larger values of n. This problem introduces us to the computational technique of dynamic programming, which successively builds up solutions by using the answers to smaller cases.\n",
    "\n",
    "Given: Positive integers n≤40 and k≤5.\n",
    "\n",
    "Return: The total number of rabbit pairs that will be present after n months, if we begin with 1 pair and in each generation, every pair of reproduction-age rabbits produces a litter of k rabbit pairs (instead of only 1 pair)."
   ]
  },
  {
   "cell_type": "code",
   "execution_count": 15,
   "metadata": {},
   "outputs": [],
   "source": [
    "def fibonacci(n):\n",
    "    if n==0:\n",
    "        print(\"Imput must be a number >0\")\n",
    "    elif n==1:\n",
    "        return 0\n",
    "    elif n==2:\n",
    "        return 1\n",
    "    else:\n",
    "        return fibonacci(n-1) + fibonacci(n-2)"
   ]
  },
  {
   "cell_type": "code",
   "execution_count": 16,
   "metadata": {},
   "outputs": [
    {
     "name": "stdout",
     "output_type": "stream",
     "text": [
      "3\n"
     ]
    }
   ],
   "source": [
    "print(fibonacci(5))"
   ]
  },
  {
   "cell_type": "markdown",
   "metadata": {},
   "source": [
    "## Problem 5\n",
    "The GC-content of a DNA string is given by the percentage of symbols in the string that are 'C' or 'G'. For example, the GC-content of \"AGCTATAG\" is 37.5%. Note that the reverse complement of any DNA string has the same GC-content.\n",
    "\n",
    "DNA strings must be labeled when they are consolidated into a database. A commonly used method of string labeling is called FASTA format. In this format, the string is introduced by a line that begins with '>', followed by some labeling information. Subsequent lines contain the string itself; the first line to begin with '>' indicates the label of the next string.\n",
    "\n",
    "In Rosalind's implementation, a string in FASTA format will be labeled by the ID \"Rosalind_xxxx\", where \"xxxx\" denotes a four-digit code between 0000 and 9999.\n",
    "\n",
    "Given: At most 10 DNA strings in FASTA format (of length at most 1 kbp each).\n",
    "\n",
    "Return: The ID of the string having the highest GC-content, followed by the GC-content of that string. Rosalind allows for a default error of 0.001 in all decimal answers unless otherwise stated; please see the note on absolute error below."
   ]
  },
  {
   "cell_type": "code",
   "execution_count": 17,
   "metadata": {},
   "outputs": [],
   "source": [
    "# We can use the code used in problem 1, count the nucleotides and then calculate their percentages\n",
    "A = file_contents.count('A')\n",
    "G = file_contents.count('G')\n",
    "T = file_contents.count('T')\n",
    "C = file_contents.count('C')\n",
    "\n",
    "total_nucleotide = A + G + T + C"
   ]
  },
  {
   "cell_type": "code",
   "execution_count": 18,
   "metadata": {},
   "outputs": [
    {
     "data": {
      "text/plain": [
       "0.48131868131868133"
      ]
     },
     "execution_count": 18,
     "metadata": {},
     "output_type": "execute_result"
    }
   ],
   "source": [
    "# % GC-content\n",
    "(G/total_nucleotide) + (C/total_nucleotide)"
   ]
  },
  {
   "cell_type": "markdown",
   "metadata": {},
   "source": [
    "## Problem 6\n",
    "\n",
    "Given two strings s and t of equal length, the Hamming distance between s and t, denoted dH(s,t), is the number of corresponding symbols that differ in s and t. See Figure 2.\n",
    "\n",
    "Given: Two DNA strings s and t of equal length (not exceeding 1 kbp).\n",
    "\n",
    "Return: The Hamming distance dH(s,t)."
   ]
  },
  {
   "cell_type": "code",
   "execution_count": 19,
   "metadata": {},
   "outputs": [],
   "source": [
    "# Let´s create a two different DNA strings\n",
    "\n",
    "DNA1 = \"GAGCCTACTAACGGGAT\"\n",
    "DNA2 = \"CATCGTAATGACGGCCT\""
   ]
  },
  {
   "cell_type": "code",
   "execution_count": 20,
   "metadata": {},
   "outputs": [],
   "source": [
    "both=zip(DNA1,DNA2)# the first item in each passed iterator is paired together, \n",
    "# and then the second item in each passed iterator are paired together etc."
   ]
  },
  {
   "cell_type": "code",
   "execution_count": 21,
   "metadata": {},
   "outputs": [
    {
     "name": "stdout",
     "output_type": "stream",
     "text": [
      "G -- C\n",
      "A = A\n",
      "G -- T\n",
      "C = C\n",
      "C -- G\n",
      "T = T\n",
      "A = A\n",
      "C -- A\n",
      "T = T\n",
      "A -- G\n",
      "A = A\n",
      "C = C\n",
      "G = G\n",
      "G = G\n",
      "G -- C\n",
      "A -- C\n",
      "T = T\n",
      "Number of mutatios is 7\n"
     ]
    }
   ],
   "source": [
    "counter=[]\n",
    "for i,j in both:\n",
    "    if i==j:\n",
    "        print (i,'=',j)\n",
    "    else: \n",
    "        counter.append(i)\n",
    "        print (i,'--',j)\n",
    "        \n",
    "print(\"Number of mutatios is\", len(counter))"
   ]
  },
  {
   "cell_type": "code",
   "execution_count": 22,
   "metadata": {},
   "outputs": [],
   "source": [
    "# k = AA, p = Aa and q = aa\n",
    "def genetica(k,p,q):\n",
    "    A = k*2 + 0.5*p\n",
    "    a = q*2 + 0.5*p\n",
    "    # \n",
    "    return 100-(a*a)\n",
    "    "
   ]
  },
  {
   "cell_type": "code",
   "execution_count": 23,
   "metadata": {},
   "outputs": [
    {
     "data": {
      "text/plain": [
       "75.0"
      ]
     },
     "execution_count": 23,
     "metadata": {},
     "output_type": "execute_result"
    }
   ],
   "source": [
    "genetica(2,2,2)"
   ]
  },
  {
   "cell_type": "markdown",
   "metadata": {},
   "source": [
    "# Problem 7\n",
    "\n",
    "Given: Three positive integers k, m, and n, representing a population containing k+m+n organisms: k individuals are homozygous dominant for a factor, m are heterozygous, and n are homozygous recessive.\n",
    "\n",
    "Return: The probability that two randomly selected mating organisms will produce an individual possessing a dominant allele (and thus displaying the dominant phenotype). Assume that any two organisms can mate."
   ]
  },
  {
   "cell_type": "code",
   "execution_count": 24,
   "metadata": {},
   "outputs": [],
   "source": [
    "import math\n",
    "\n",
    "hom = 2\n",
    "het = 2\n",
    "rec = 2"
   ]
  },
  {
   "cell_type": "code",
   "execution_count": 25,
   "metadata": {},
   "outputs": [
    {
     "data": {
      "text/plain": [
       "0.7833333333333333"
      ]
     },
     "execution_count": 25,
     "metadata": {},
     "output_type": "execute_result"
    }
   ],
   "source": [
    "# total population\n",
    "pop_total = 4 * math.comb(hom + het + rec, 2)\n",
    "\n",
    "# dominant organisms         \n",
    "dom_total = 4* math.comb(hom,2) + 4*hom*het + 4*hom*rec + 3*math.comb(het,2) + 2*het*rec\n",
    "\n",
    "# probability for dominant organisms\n",
    "dom_total/pop_total\n"
   ]
  },
  {
   "cell_type": "markdown",
   "metadata": {},
   "source": [
    "# Problem 8\n",
    "\n",
    "The 20 commonly occurring amino acids are abbreviated by using 20 letters from the English alphabet (all letters except for B, J, O, U, X, and Z). Protein strings are constructed from these 20 symbols. Henceforth, the term genetic string will incorporate protein strings along with DNA strings and RNA strings.\n",
    "\n",
    "The RNA codon table dictates the details regarding the encoding of specific codons into the amino acid alphabet.\n",
    "\n",
    "Given: An RNA string s corresponding to a strand of mRNA (of length at most 10 kbp).\n",
    "\n",
    "Return: The protein string encoded by s."
   ]
  },
  {
   "cell_type": "code",
   "execution_count": 95,
   "metadata": {},
   "outputs": [],
   "source": [
    "DNA8 =\"TTTCATTGCTAGGAGACCATCAGGGCATCGCTTATTTTTGTGGGACATTGCGTTCGCATCCAGGTCCGTGAAGGCACTCGCAGTGTATTATCTCTTTCTAGATTGTACGTTGCCAAACAACAAGCCTGGACGATTGTTTTGTTACTCAAGTGACTCGTTACAAGCTAAATCACAGAAGGACACTGCCGAAGATGGCTAGAAGAGTTATCTCTAGAGGACCCTCACAAACGTATCTCCGGAAGGGGATACGGGAAACACGCGTTACTGCGAGAAATTCCAAAGGAGTGGCAAAGAGTAGAGAAAACTCTACAGAATGGACTCCTAATCGAATGTGTTCATCCGCCACACACTTGCACCACCTGCATGAGCGAAAAATCCAACGCTTGTTTACTGACCCTATACAACAATACGCAACATACAAGGTATAAGTCTTTCTCGGAATACCATGAGGAGGCTATATTGCTATTGGTCCGAGCACTAATTATTAGCCATATCTTTTGGATAAACTTTCAGGATGAGGAGCGAAATGCTAACATGCCAGTTCGGTCACATTGAACGTTAGAAATGGCTTCCAGTAGGTTCTATAACCATCCAAGTCGCTCAGACTTCTACGCACCACAGTCGCGCCCCGAGTCGTACAATGACCCCGCTCGAAAAAAGGCAAGTAGATCCGACATGAGCGCTTTGTCGTAGCCGGGTCGTTTTTGCACGGATTTTCTCCGAGATCGCTCCGGTTTGTAACCCATAACTGCTGTAGGCGCTCGCGTGTTTCCTGGGCCACTTCGCATCAAGGATGTTTATGCGAATGGACGAACGCCTGTGTGCGAAGTGTTGACATGATCGATATCTTGAGCAGGCAGTTGTTCGTGCCCGCGAGGGCTTCGGCGCTCCCTGGCAAATCCACTACGT\""
   ]
  },
  {
   "cell_type": "code",
   "execution_count": 96,
   "metadata": {},
   "outputs": [],
   "source": [
    "from textwrap import wrap"
   ]
  },
  {
   "cell_type": "code",
   "execution_count": 97,
   "metadata": {},
   "outputs": [
    {
     "data": {
      "text/plain": [
       "['TTT',\n",
       " 'CAT',\n",
       " 'TGC',\n",
       " 'TAG',\n",
       " 'GAG',\n",
       " 'ACC',\n",
       " 'ATC',\n",
       " 'AGG',\n",
       " 'GCA',\n",
       " 'TCG',\n",
       " 'CTT',\n",
       " 'ATT',\n",
       " 'TTT',\n",
       " 'GTG',\n",
       " 'GGA',\n",
       " 'CAT',\n",
       " 'TGC',\n",
       " 'GTT',\n",
       " 'CGC',\n",
       " 'ATC',\n",
       " 'CAG',\n",
       " 'GTC',\n",
       " 'CGT',\n",
       " 'GAA',\n",
       " 'GGC',\n",
       " 'ACT',\n",
       " 'CGC',\n",
       " 'AGT',\n",
       " 'GTA',\n",
       " 'TTA',\n",
       " 'TCT',\n",
       " 'CTT',\n",
       " 'TCT',\n",
       " 'AGA',\n",
       " 'TTG',\n",
       " 'TAC',\n",
       " 'GTT',\n",
       " 'GCC',\n",
       " 'AAA',\n",
       " 'CAA',\n",
       " 'CAA',\n",
       " 'GCC',\n",
       " 'TGG',\n",
       " 'ACG',\n",
       " 'ATT',\n",
       " 'GTT',\n",
       " 'TTG',\n",
       " 'TTA',\n",
       " 'CTC',\n",
       " 'AAG',\n",
       " 'TGA',\n",
       " 'CTC',\n",
       " 'GTT',\n",
       " 'ACA',\n",
       " 'AGC',\n",
       " 'TAA',\n",
       " 'ATC',\n",
       " 'ACA',\n",
       " 'GAA',\n",
       " 'GGA',\n",
       " 'CAC',\n",
       " 'TGC',\n",
       " 'CGA',\n",
       " 'AGA',\n",
       " 'TGG',\n",
       " 'CTA',\n",
       " 'GAA',\n",
       " 'GAG',\n",
       " 'TTA',\n",
       " 'TCT',\n",
       " 'CTA',\n",
       " 'GAG',\n",
       " 'GAC',\n",
       " 'CCT',\n",
       " 'CAC',\n",
       " 'AAA',\n",
       " 'CGT',\n",
       " 'ATC',\n",
       " 'TCC',\n",
       " 'GGA',\n",
       " 'AGG',\n",
       " 'GGA',\n",
       " 'TAC',\n",
       " 'GGG',\n",
       " 'AAA',\n",
       " 'CAC',\n",
       " 'GCG',\n",
       " 'TTA',\n",
       " 'CTG',\n",
       " 'CGA',\n",
       " 'GAA',\n",
       " 'ATT',\n",
       " 'CCA',\n",
       " 'AAG',\n",
       " 'GAG',\n",
       " 'TGG',\n",
       " 'CAA',\n",
       " 'AGA',\n",
       " 'GTA',\n",
       " 'GAG',\n",
       " 'AAA',\n",
       " 'ACT',\n",
       " 'CTA',\n",
       " 'CAG',\n",
       " 'AAT',\n",
       " 'GGA',\n",
       " 'CTC',\n",
       " 'CTA',\n",
       " 'ATC',\n",
       " 'GAA',\n",
       " 'TGT',\n",
       " 'GTT',\n",
       " 'CAT',\n",
       " 'CCG',\n",
       " 'CCA',\n",
       " 'CAC',\n",
       " 'ACT',\n",
       " 'TGC',\n",
       " 'ACC',\n",
       " 'ACC',\n",
       " 'TGC',\n",
       " 'ATG',\n",
       " 'AGC',\n",
       " 'GAA',\n",
       " 'AAA',\n",
       " 'TCC',\n",
       " 'AAC',\n",
       " 'GCT',\n",
       " 'TGT',\n",
       " 'TTA',\n",
       " 'CTG',\n",
       " 'ACC',\n",
       " 'CTA',\n",
       " 'TAC',\n",
       " 'AAC',\n",
       " 'AAT',\n",
       " 'ACG',\n",
       " 'CAA',\n",
       " 'CAT',\n",
       " 'ACA',\n",
       " 'AGG',\n",
       " 'TAT',\n",
       " 'AAG',\n",
       " 'TCT',\n",
       " 'TTC',\n",
       " 'TCG',\n",
       " 'GAA',\n",
       " 'TAC',\n",
       " 'CAT',\n",
       " 'GAG',\n",
       " 'GAG',\n",
       " 'GCT',\n",
       " 'ATA',\n",
       " 'TTG',\n",
       " 'CTA',\n",
       " 'TTG',\n",
       " 'GTC',\n",
       " 'CGA',\n",
       " 'GCA',\n",
       " 'CTA',\n",
       " 'ATT',\n",
       " 'ATT',\n",
       " 'AGC',\n",
       " 'CAT',\n",
       " 'ATC',\n",
       " 'TTT',\n",
       " 'TGG',\n",
       " 'ATA',\n",
       " 'AAC',\n",
       " 'TTT',\n",
       " 'CAG',\n",
       " 'GAT',\n",
       " 'GAG',\n",
       " 'GAG',\n",
       " 'CGA',\n",
       " 'AAT',\n",
       " 'GCT',\n",
       " 'AAC',\n",
       " 'ATG',\n",
       " 'CCA',\n",
       " 'GTT',\n",
       " 'CGG',\n",
       " 'TCA',\n",
       " 'CAT',\n",
       " 'TGA',\n",
       " 'ACG',\n",
       " 'TTA',\n",
       " 'GAA',\n",
       " 'ATG',\n",
       " 'GCT',\n",
       " 'TCC',\n",
       " 'AGT',\n",
       " 'AGG',\n",
       " 'TTC',\n",
       " 'TAT',\n",
       " 'AAC',\n",
       " 'CAT',\n",
       " 'CCA',\n",
       " 'AGT',\n",
       " 'CGC',\n",
       " 'TCA',\n",
       " 'GAC',\n",
       " 'TTC',\n",
       " 'TAC',\n",
       " 'GCA',\n",
       " 'CCA',\n",
       " 'CAG',\n",
       " 'TCG',\n",
       " 'CGC',\n",
       " 'CCC',\n",
       " 'GAG',\n",
       " 'TCG',\n",
       " 'TAC',\n",
       " 'AAT',\n",
       " 'GAC',\n",
       " 'CCC',\n",
       " 'GCT',\n",
       " 'CGA',\n",
       " 'AAA',\n",
       " 'AAG',\n",
       " 'GCA',\n",
       " 'AGT',\n",
       " 'AGA',\n",
       " 'TCC',\n",
       " 'GAC',\n",
       " 'ATG',\n",
       " 'AGC',\n",
       " 'GCT',\n",
       " 'TTG',\n",
       " 'TCG',\n",
       " 'TAG',\n",
       " 'CCG',\n",
       " 'GGT',\n",
       " 'CGT',\n",
       " 'TTT',\n",
       " 'TGC',\n",
       " 'ACG',\n",
       " 'GAT',\n",
       " 'TTT',\n",
       " 'CTC',\n",
       " 'CGA',\n",
       " 'GAT',\n",
       " 'CGC',\n",
       " 'TCC',\n",
       " 'GGT',\n",
       " 'TTG',\n",
       " 'TAA',\n",
       " 'CCC',\n",
       " 'ATA',\n",
       " 'ACT',\n",
       " 'GCT',\n",
       " 'GTA',\n",
       " 'GGC',\n",
       " 'GCT',\n",
       " 'CGC',\n",
       " 'GTG',\n",
       " 'TTT',\n",
       " 'CCT',\n",
       " 'GGG',\n",
       " 'CCA',\n",
       " 'CTT',\n",
       " 'CGC',\n",
       " 'ATC',\n",
       " 'AAG',\n",
       " 'GAT',\n",
       " 'GTT',\n",
       " 'TAT',\n",
       " 'GCG',\n",
       " 'AAT',\n",
       " 'GGA',\n",
       " 'CGA',\n",
       " 'ACG',\n",
       " 'CCT',\n",
       " 'GTG',\n",
       " 'TGC',\n",
       " 'GAA',\n",
       " 'GTG',\n",
       " 'TTG',\n",
       " 'ACA',\n",
       " 'TGA',\n",
       " 'TCG',\n",
       " 'ATA',\n",
       " 'TCT',\n",
       " 'TGA',\n",
       " 'GCA',\n",
       " 'GGC',\n",
       " 'AGT',\n",
       " 'TGT',\n",
       " 'TCG',\n",
       " 'TGC',\n",
       " 'CCG',\n",
       " 'CGA',\n",
       " 'GGG',\n",
       " 'CTT',\n",
       " 'CGG',\n",
       " 'CGC',\n",
       " 'TCC',\n",
       " 'CTG',\n",
       " 'GCA',\n",
       " 'AAT',\n",
       " 'CCA',\n",
       " 'CTA',\n",
       " 'CGT']"
      ]
     },
     "execution_count": 97,
     "metadata": {},
     "output_type": "execute_result"
    }
   ],
   "source": [
    "codons= wrap(DNA8, 3) # First we create the codons\n",
    "codons"
   ]
  },
  {
   "cell_type": "code",
   "execution_count": null,
   "metadata": {},
   "outputs": [],
   "source": [
    "# I have found the genetic code on internet (a dict, what I want)\n",
    "codon2aa = { \n",
    "        'ATA':'I', 'ATC':'I', 'ATT':'I', 'ATG':'M', \n",
    "        'ACA':'T', 'ACC':'T', 'ACG':'T', 'ACT':'T', \n",
    "        'AAC':'N', 'AAT':'N', 'AAA':'K', 'AAG':'K', \n",
    "        'AGC':'S', 'AGT':'S', 'AGA':'R', 'AGG':'R',                  \n",
    "        'CTA':'L', 'CTC':'L', 'CTG':'L', 'CTT':'L', \n",
    "        'CCA':'P', 'CCC':'P', 'CCG':'P', 'CCT':'P', \n",
    "        'CAC':'H', 'CAT':'H', 'CAA':'Q', 'CAG':'Q', \n",
    "        'CGA':'R', 'CGC':'R', 'CGG':'R', 'CGT':'R', \n",
    "        'GTA':'V', 'GTC':'V', 'GTG':'V', 'GTT':'V', \n",
    "        'GCA':'A', 'GCC':'A', 'GCG':'A', 'GCT':'A', \n",
    "        'GAC':'D', 'GAT':'D', 'GAA':'E', 'GAG':'E', \n",
    "        'GGA':'G', 'GGC':'G', 'GGG':'G', 'GGT':'G', \n",
    "        'TCA':'S', 'TCC':'S', 'TCG':'S', 'TCT':'S', \n",
    "        'TTC':'F', 'TTT':'F', 'TTA':'L', 'TTG':'L', \n",
    "        'TAC':'Y', 'TAT':'Y', 'TAA':'_', 'TAG':'_', \n",
    "        'TGC':'C', 'TGT':'C', 'TGA':'_', 'TGG':'W', \n",
    "    }"
   ]
  },
  {
   "cell_type": "code",
   "execution_count": null,
   "metadata": {},
   "outputs": [],
   "source": [
    "list_of_protein = [codon2aa[x] for x in codons]#######################################\n",
    "\n",
    "list_of_protein"
   ]
  },
  {
   "cell_type": "code",
   "execution_count": null,
   "metadata": {},
   "outputs": [],
   "source": [
    "# List2string\n",
    "# initialize an empty string \n",
    "protein = \"\"  \n",
    "    \n",
    "# traverse in the string   \n",
    "for aa in list_of_protein:  \n",
    "    protein += aa   \n",
    "protein"
   ]
  },
  {
   "cell_type": "code",
   "execution_count": null,
   "metadata": {},
   "outputs": [],
   "source": [
    "# Using Biopython\n",
    "DNA8biop = Seq(DNA8)\n",
    "DNA8biop.translate()"
   ]
  },
  {
   "cell_type": "markdown",
   "metadata": {},
   "source": [
    "# Problem 9"
   ]
  },
  {
   "cell_type": "code",
   "execution_count": null,
   "metadata": {},
   "outputs": [],
   "source": [
    "def finding_motif(DNA, motif):\n",
    "    result = []\n",
    "    mlen = len(motif)\n",
    "    slen = len(DNA)\n",
    "    for i in range(0, slen - mlen + 1):\n",
    "        if DNA[i:i+mlen] == motif:\n",
    "            result.append(i+1)        \n",
    "    return result"
   ]
  },
  {
   "cell_type": "code",
   "execution_count": null,
   "metadata": {},
   "outputs": [],
   "source": [
    "A=5\n",
    "B=10\n",
    "for i in range(A,B+1):\n",
    "    print(i)"
   ]
  },
  {
   "cell_type": "markdown",
   "metadata": {},
   "source": [
    "# Personal problem\n",
    "In a conversation between my grandfather and my grandfather sister, there was a stupid discussion about in which book Old Testament or New Testament the word Jesus appear more time. \n",
    "\n",
    "I thought that perhaps with a simple program I can help them to find out the answer.\n"
   ]
  },
  {
   "cell_type": "code",
   "execution_count": 61,
   "metadata": {},
   "outputs": [],
   "source": [
    "# First, let´s read the txt document\n",
    "# Using the Terminal, we can download the document The Old Testament and The New Testament\n",
    "# curl -O <URL>\n",
    "new = open(\"/Users/monkiky/Dropbox/My Mac (Monkikys-MacBook-Pro.local)/Desktop/Rosalind problems/newT.txt\",\"r\")\n",
    "old = open(\"/Users/monkiky/Dropbox/My Mac (Monkikys-MacBook-Pro.local)/Desktop/Rosalind problems/oldT.txt\",\"r\")\n"
   ]
  },
  {
   "cell_type": "code",
   "execution_count": 62,
   "metadata": {},
   "outputs": [
    {
     "name": "stdout",
     "output_type": "stream",
     "text": [
      "Approx total words in the old 632582\n"
     ]
    }
   ],
   "source": [
    "# First, lets see how many words we have in each book\n",
    "\n",
    "words = []\n",
    "\n",
    "with open('/Users/monkiky/Dropbox/My Mac (Monkikys-MacBook-Pro.local)/Desktop/Rosalind problems/oldT.txt','r') as f:\n",
    "    for line in f:\n",
    "        for word in line.split():\n",
    "            words.append(word)\n",
    "print(\"Approx total words in the old\",len(words))"
   ]
  },
  {
   "cell_type": "code",
   "execution_count": 63,
   "metadata": {},
   "outputs": [
    {
     "name": "stdout",
     "output_type": "stream",
     "text": [
      "Approx total words in the new 188550\n"
     ]
    }
   ],
   "source": [
    "words = []\n",
    "\n",
    "with open('/Users/monkiky/Dropbox/My Mac (Monkikys-MacBook-Pro.local)/Desktop/Rosalind problems/newT.txt','r') as f:\n",
    "    for line in f:\n",
    "        for word in line.split():\n",
    "            words.append(word)\n",
    "print(\"Approx total words in the new\",len(words))"
   ]
  },
  {
   "cell_type": "code",
   "execution_count": 64,
   "metadata": {},
   "outputs": [],
   "source": [
    "# we can count the repetition of each word\n",
    "\n",
    "from collections import Counter\n",
    "wordcount_new = Counter(new.read().split())\n",
    "wordcount_old = Counter(old.read().split())"
   ]
  },
  {
   "cell_type": "code",
   "execution_count": 34,
   "metadata": {},
   "outputs": [
    {
     "data": {
      "text/plain": [
       "collections.Counter"
      ]
     },
     "execution_count": 34,
     "metadata": {},
     "output_type": "execute_result"
    }
   ],
   "source": []
  },
  {
   "cell_type": "code",
   "execution_count": 36,
   "metadata": {},
   "outputs": [],
   "source": [
    "import pandas as pd"
   ]
  },
  {
   "cell_type": "code",
   "execution_count": 71,
   "metadata": {},
   "outputs": [
    {
     "data": {
      "text/html": [
       "<div>\n",
       "<style scoped>\n",
       "    .dataframe tbody tr th:only-of-type {\n",
       "        vertical-align: middle;\n",
       "    }\n",
       "\n",
       "    .dataframe tbody tr th {\n",
       "        vertical-align: top;\n",
       "    }\n",
       "\n",
       "    .dataframe thead th {\n",
       "        text-align: right;\n",
       "    }\n",
       "</style>\n",
       "<table border=\"1\" class=\"dataframe\">\n",
       "  <thead>\n",
       "    <tr style=\"text-align: right;\">\n",
       "      <th></th>\n",
       "      <th>words</th>\n",
       "      <th>New_times</th>\n",
       "    </tr>\n",
       "  </thead>\n",
       "  <tbody>\n",
       "    <tr>\n",
       "      <th>0</th>\n",
       "      <td>The</td>\n",
       "      <td>293</td>\n",
       "    </tr>\n",
       "    <tr>\n",
       "      <th>1</th>\n",
       "      <td>New</td>\n",
       "      <td>1</td>\n",
       "    </tr>\n",
       "    <tr>\n",
       "      <th>2</th>\n",
       "      <td>Testament</td>\n",
       "      <td>1</td>\n",
       "    </tr>\n",
       "    <tr>\n",
       "      <th>3</th>\n",
       "      <td>of</td>\n",
       "      <td>6052</td>\n",
       "    </tr>\n",
       "    <tr>\n",
       "      <th>4</th>\n",
       "      <td>the</td>\n",
       "      <td>10724</td>\n",
       "    </tr>\n",
       "    <tr>\n",
       "      <th>...</th>\n",
       "      <td>...</td>\n",
       "      <td>...</td>\n",
       "    </tr>\n",
       "    <tr>\n",
       "      <th>14052</th>\n",
       "      <td>river,</td>\n",
       "      <td>1</td>\n",
       "    </tr>\n",
       "    <tr>\n",
       "      <th>14053</th>\n",
       "      <td>month:</td>\n",
       "      <td>1</td>\n",
       "    </tr>\n",
       "    <tr>\n",
       "      <th>14054</th>\n",
       "      <td>filthy,</td>\n",
       "      <td>1</td>\n",
       "    </tr>\n",
       "    <tr>\n",
       "      <th>14055</th>\n",
       "      <td>quickly;</td>\n",
       "      <td>1</td>\n",
       "    </tr>\n",
       "    <tr>\n",
       "      <th>14056</th>\n",
       "      <td>lie.</td>\n",
       "      <td>1</td>\n",
       "    </tr>\n",
       "  </tbody>\n",
       "</table>\n",
       "<p>14057 rows × 2 columns</p>\n",
       "</div>"
      ],
      "text/plain": [
       "           words  New_times\n",
       "0            The        293\n",
       "1            New          1\n",
       "2      Testament          1\n",
       "3             of       6052\n",
       "4            the      10724\n",
       "...          ...        ...\n",
       "14052     river,          1\n",
       "14053     month:          1\n",
       "14054    filthy,          1\n",
       "14055   quickly;          1\n",
       "14056       lie.          1\n",
       "\n",
       "[14057 rows x 2 columns]"
      ]
     },
     "execution_count": 71,
     "metadata": {},
     "output_type": "execute_result"
    }
   ],
   "source": [
    "# For better manipulation, we use df\n",
    "df_new = pd.DataFrame.from_dict(wordcount_new, orient='index').reset_index()\n",
    "df_new = df_new.rename(columns = {'index': 'words', 0: 'New_times'}, inplace = False)\n",
    "df_new"
   ]
  },
  {
   "cell_type": "code",
   "execution_count": 72,
   "metadata": {},
   "outputs": [
    {
     "data": {
      "text/html": [
       "<div>\n",
       "<style scoped>\n",
       "    .dataframe tbody tr th:only-of-type {\n",
       "        vertical-align: middle;\n",
       "    }\n",
       "\n",
       "    .dataframe tbody tr th {\n",
       "        vertical-align: top;\n",
       "    }\n",
       "\n",
       "    .dataframe thead th {\n",
       "        text-align: right;\n",
       "    }\n",
       "</style>\n",
       "<table border=\"1\" class=\"dataframe\">\n",
       "  <thead>\n",
       "    <tr style=\"text-align: right;\">\n",
       "      <th></th>\n",
       "      <th>words</th>\n",
       "      <th>Old_times</th>\n",
       "    </tr>\n",
       "  </thead>\n",
       "  <tbody>\n",
       "    <tr>\n",
       "      <th>0</th>\n",
       "      <td>The</td>\n",
       "      <td>1606</td>\n",
       "    </tr>\n",
       "    <tr>\n",
       "      <th>1</th>\n",
       "      <td>Old</td>\n",
       "      <td>1</td>\n",
       "    </tr>\n",
       "    <tr>\n",
       "      <th>2</th>\n",
       "      <td>Testament</td>\n",
       "      <td>1</td>\n",
       "    </tr>\n",
       "    <tr>\n",
       "      <th>3</th>\n",
       "      <td>of</td>\n",
       "      <td>28393</td>\n",
       "    </tr>\n",
       "    <tr>\n",
       "      <th>4</th>\n",
       "      <td>the</td>\n",
       "      <td>51375</td>\n",
       "    </tr>\n",
       "    <tr>\n",
       "      <th>...</th>\n",
       "      <td>...</td>\n",
       "      <td>...</td>\n",
       "    </tr>\n",
       "    <tr>\n",
       "      <th>28237</th>\n",
       "      <td>mournfully</td>\n",
       "      <td>1</td>\n",
       "    </tr>\n",
       "    <tr>\n",
       "      <th>28238</th>\n",
       "      <td>happy;</td>\n",
       "      <td>1</td>\n",
       "    </tr>\n",
       "    <tr>\n",
       "      <th>28239</th>\n",
       "      <td>oven;</td>\n",
       "      <td>1</td>\n",
       "    </tr>\n",
       "    <tr>\n",
       "      <th>28240</th>\n",
       "      <td>Sun</td>\n",
       "      <td>1</td>\n",
       "    </tr>\n",
       "    <tr>\n",
       "      <th>28241</th>\n",
       "      <td>stall.</td>\n",
       "      <td>1</td>\n",
       "    </tr>\n",
       "  </tbody>\n",
       "</table>\n",
       "<p>28242 rows × 2 columns</p>\n",
       "</div>"
      ],
      "text/plain": [
       "            words  Old_times\n",
       "0             The       1606\n",
       "1             Old          1\n",
       "2       Testament          1\n",
       "3              of      28393\n",
       "4             the      51375\n",
       "...           ...        ...\n",
       "28237  mournfully          1\n",
       "28238      happy;          1\n",
       "28239       oven;          1\n",
       "28240         Sun          1\n",
       "28241      stall.          1\n",
       "\n",
       "[28242 rows x 2 columns]"
      ]
     },
     "execution_count": 72,
     "metadata": {},
     "output_type": "execute_result"
    }
   ],
   "source": [
    "df_old = pd.DataFrame.from_dict(wordcount_old, orient='index').reset_index()\n",
    "df_old = df_old.rename(columns = {'index': 'words', 0: 'Old_times'}, inplace = False)\n",
    "df_old"
   ]
  },
  {
   "cell_type": "code",
   "execution_count": 83,
   "metadata": {},
   "outputs": [
    {
     "data": {
      "text/html": [
       "<div>\n",
       "<style scoped>\n",
       "    .dataframe tbody tr th:only-of-type {\n",
       "        vertical-align: middle;\n",
       "    }\n",
       "\n",
       "    .dataframe tbody tr th {\n",
       "        vertical-align: top;\n",
       "    }\n",
       "\n",
       "    .dataframe thead th {\n",
       "        text-align: right;\n",
       "    }\n",
       "</style>\n",
       "<table border=\"1\" class=\"dataframe\">\n",
       "  <thead>\n",
       "    <tr style=\"text-align: right;\">\n",
       "      <th></th>\n",
       "      <th>words</th>\n",
       "      <th>New_times</th>\n",
       "      <th>Old_times</th>\n",
       "    </tr>\n",
       "  </thead>\n",
       "  <tbody>\n",
       "    <tr>\n",
       "      <th>0</th>\n",
       "      <td>The</td>\n",
       "      <td>293.0</td>\n",
       "      <td>1606.0</td>\n",
       "    </tr>\n",
       "    <tr>\n",
       "      <th>1</th>\n",
       "      <td>New</td>\n",
       "      <td>1.0</td>\n",
       "      <td>NaN</td>\n",
       "    </tr>\n",
       "    <tr>\n",
       "      <th>2</th>\n",
       "      <td>Testament</td>\n",
       "      <td>1.0</td>\n",
       "      <td>1.0</td>\n",
       "    </tr>\n",
       "    <tr>\n",
       "      <th>3</th>\n",
       "      <td>of</td>\n",
       "      <td>6052.0</td>\n",
       "      <td>28393.0</td>\n",
       "    </tr>\n",
       "    <tr>\n",
       "      <th>4</th>\n",
       "      <td>the</td>\n",
       "      <td>10724.0</td>\n",
       "      <td>51375.0</td>\n",
       "    </tr>\n",
       "    <tr>\n",
       "      <th>...</th>\n",
       "      <td>...</td>\n",
       "      <td>...</td>\n",
       "      <td>...</td>\n",
       "    </tr>\n",
       "    <tr>\n",
       "      <th>33439</th>\n",
       "      <td>delightsome</td>\n",
       "      <td>NaN</td>\n",
       "      <td>1.0</td>\n",
       "    </tr>\n",
       "    <tr>\n",
       "      <th>33440</th>\n",
       "      <td>mournfully</td>\n",
       "      <td>NaN</td>\n",
       "      <td>1.0</td>\n",
       "    </tr>\n",
       "    <tr>\n",
       "      <th>33441</th>\n",
       "      <td>happy;</td>\n",
       "      <td>NaN</td>\n",
       "      <td>1.0</td>\n",
       "    </tr>\n",
       "    <tr>\n",
       "      <th>33442</th>\n",
       "      <td>Sun</td>\n",
       "      <td>NaN</td>\n",
       "      <td>1.0</td>\n",
       "    </tr>\n",
       "    <tr>\n",
       "      <th>33443</th>\n",
       "      <td>stall.</td>\n",
       "      <td>NaN</td>\n",
       "      <td>1.0</td>\n",
       "    </tr>\n",
       "  </tbody>\n",
       "</table>\n",
       "<p>33444 rows × 3 columns</p>\n",
       "</div>"
      ],
      "text/plain": [
       "             words  New_times  Old_times\n",
       "0              The      293.0     1606.0\n",
       "1              New        1.0        NaN\n",
       "2        Testament        1.0        1.0\n",
       "3               of     6052.0    28393.0\n",
       "4              the    10724.0    51375.0\n",
       "...            ...        ...        ...\n",
       "33439  delightsome        NaN        1.0\n",
       "33440   mournfully        NaN        1.0\n",
       "33441       happy;        NaN        1.0\n",
       "33442          Sun        NaN        1.0\n",
       "33443       stall.        NaN        1.0\n",
       "\n",
       "[33444 rows x 3 columns]"
      ]
     },
     "execution_count": 83,
     "metadata": {},
     "output_type": "execute_result"
    }
   ],
   "source": [
    "# We merge both dfs. If one value is not in common, with \"how=\"outer\" add a Na\n",
    "df_Bible= pd.merge(df_new, df_old, on=\"words\",how=\"outer\")\n",
    "df_Bible"
   ]
  },
  {
   "cell_type": "code",
   "execution_count": 85,
   "metadata": {},
   "outputs": [
    {
     "data": {
      "text/html": [
       "<div>\n",
       "<style scoped>\n",
       "    .dataframe tbody tr th:only-of-type {\n",
       "        vertical-align: middle;\n",
       "    }\n",
       "\n",
       "    .dataframe tbody tr th {\n",
       "        vertical-align: top;\n",
       "    }\n",
       "\n",
       "    .dataframe thead th {\n",
       "        text-align: right;\n",
       "    }\n",
       "</style>\n",
       "<table border=\"1\" class=\"dataframe\">\n",
       "  <thead>\n",
       "    <tr style=\"text-align: right;\">\n",
       "      <th></th>\n",
       "      <th>words</th>\n",
       "      <th>New_times</th>\n",
       "      <th>Old_times</th>\n",
       "    </tr>\n",
       "  </thead>\n",
       "  <tbody>\n",
       "    <tr>\n",
       "      <th>16</th>\n",
       "      <td>Jesus</td>\n",
       "      <td>775.0</td>\n",
       "      <td>NaN</td>\n",
       "    </tr>\n",
       "  </tbody>\n",
       "</table>\n",
       "</div>"
      ],
      "text/plain": [
       "    words  New_times  Old_times\n",
       "16  Jesus      775.0        NaN"
      ]
     },
     "execution_count": 85,
     "metadata": {},
     "output_type": "execute_result"
    }
   ],
   "source": [
    "# Now we can find out if a particular word is found in both books and know also how many times appears \n",
    "df_Bible[df_Bible[\"words\"] == 'Jesus']"
   ]
  },
  {
   "cell_type": "code",
   "execution_count": 86,
   "metadata": {},
   "outputs": [
    {
     "data": {
      "text/html": [
       "<div>\n",
       "<style scoped>\n",
       "    .dataframe tbody tr th:only-of-type {\n",
       "        vertical-align: middle;\n",
       "    }\n",
       "\n",
       "    .dataframe tbody tr th {\n",
       "        vertical-align: top;\n",
       "    }\n",
       "\n",
       "    .dataframe thead th {\n",
       "        text-align: right;\n",
       "    }\n",
       "</style>\n",
       "<table border=\"1\" class=\"dataframe\">\n",
       "  <thead>\n",
       "    <tr style=\"text-align: right;\">\n",
       "      <th></th>\n",
       "      <th>words</th>\n",
       "      <th>New_times</th>\n",
       "      <th>Old_times</th>\n",
       "    </tr>\n",
       "  </thead>\n",
       "  <tbody>\n",
       "    <tr>\n",
       "      <th>2721</th>\n",
       "      <td>Peter</td>\n",
       "      <td>111.0</td>\n",
       "      <td>NaN</td>\n",
       "    </tr>\n",
       "  </tbody>\n",
       "</table>\n",
       "</div>"
      ],
      "text/plain": [
       "      words  New_times  Old_times\n",
       "2721  Peter      111.0        NaN"
      ]
     },
     "execution_count": 86,
     "metadata": {},
     "output_type": "execute_result"
    }
   ],
   "source": [
    "df_Bible[df_Bible[\"words\"] == 'Peter']"
   ]
  },
  {
   "cell_type": "code",
   "execution_count": 87,
   "metadata": {},
   "outputs": [
    {
     "data": {
      "text/html": [
       "<div>\n",
       "<style scoped>\n",
       "    .dataframe tbody tr th:only-of-type {\n",
       "        vertical-align: middle;\n",
       "    }\n",
       "\n",
       "    .dataframe tbody tr th {\n",
       "        vertical-align: top;\n",
       "    }\n",
       "\n",
       "    .dataframe thead th {\n",
       "        text-align: right;\n",
       "    }\n",
       "</style>\n",
       "<table border=\"1\" class=\"dataframe\">\n",
       "  <thead>\n",
       "    <tr style=\"text-align: right;\">\n",
       "      <th></th>\n",
       "      <th>words</th>\n",
       "      <th>New_times</th>\n",
       "      <th>Old_times</th>\n",
       "    </tr>\n",
       "  </thead>\n",
       "  <tbody>\n",
       "    <tr>\n",
       "      <th>1482</th>\n",
       "      <td>Moses</td>\n",
       "      <td>47.0</td>\n",
       "      <td>437.0</td>\n",
       "    </tr>\n",
       "  </tbody>\n",
       "</table>\n",
       "</div>"
      ],
      "text/plain": [
       "      words  New_times  Old_times\n",
       "1482  Moses       47.0      437.0"
      ]
     },
     "execution_count": 87,
     "metadata": {},
     "output_type": "execute_result"
    }
   ],
   "source": [
    "df_Bible[df_Bible[\"words\"] == 'Moses']"
   ]
  },
  {
   "cell_type": "code",
   "execution_count": 88,
   "metadata": {},
   "outputs": [
    {
     "data": {
      "text/html": [
       "<div>\n",
       "<style scoped>\n",
       "    .dataframe tbody tr th:only-of-type {\n",
       "        vertical-align: middle;\n",
       "    }\n",
       "\n",
       "    .dataframe tbody tr th {\n",
       "        vertical-align: top;\n",
       "    }\n",
       "\n",
       "    .dataframe thead th {\n",
       "        text-align: right;\n",
       "    }\n",
       "</style>\n",
       "<table border=\"1\" class=\"dataframe\">\n",
       "  <thead>\n",
       "    <tr style=\"text-align: right;\">\n",
       "      <th></th>\n",
       "      <th>words</th>\n",
       "      <th>New_times</th>\n",
       "      <th>Old_times</th>\n",
       "    </tr>\n",
       "  </thead>\n",
       "  <tbody>\n",
       "    <tr>\n",
       "      <th>167</th>\n",
       "      <td>Mary</td>\n",
       "      <td>40.0</td>\n",
       "      <td>NaN</td>\n",
       "    </tr>\n",
       "  </tbody>\n",
       "</table>\n",
       "</div>"
      ],
      "text/plain": [
       "    words  New_times  Old_times\n",
       "167  Mary       40.0        NaN"
      ]
     },
     "execution_count": 88,
     "metadata": {},
     "output_type": "execute_result"
    }
   ],
   "source": [
    "df_Bible[df_Bible[\"words\"] == 'Mary']"
   ]
  },
  {
   "cell_type": "code",
   "execution_count": 89,
   "metadata": {},
   "outputs": [
    {
     "data": {
      "text/html": [
       "<div>\n",
       "<style scoped>\n",
       "    .dataframe tbody tr th:only-of-type {\n",
       "        vertical-align: middle;\n",
       "    }\n",
       "\n",
       "    .dataframe tbody tr th {\n",
       "        vertical-align: top;\n",
       "    }\n",
       "\n",
       "    .dataframe thead th {\n",
       "        text-align: right;\n",
       "    }\n",
       "</style>\n",
       "<table border=\"1\" class=\"dataframe\">\n",
       "  <thead>\n",
       "    <tr style=\"text-align: right;\">\n",
       "      <th></th>\n",
       "      <th>words</th>\n",
       "      <th>New_times</th>\n",
       "      <th>Old_times</th>\n",
       "    </tr>\n",
       "  </thead>\n",
       "  <tbody>\n",
       "    <tr>\n",
       "      <th>248</th>\n",
       "      <td>God</td>\n",
       "      <td>666.0</td>\n",
       "      <td>1563.0</td>\n",
       "    </tr>\n",
       "  </tbody>\n",
       "</table>\n",
       "</div>"
      ],
      "text/plain": [
       "    words  New_times  Old_times\n",
       "248   God      666.0     1563.0"
      ]
     },
     "execution_count": 89,
     "metadata": {},
     "output_type": "execute_result"
    }
   ],
   "source": [
    "df_Bible[df_Bible[\"words\"] == 'God']"
   ]
  },
  {
   "cell_type": "code",
   "execution_count": null,
   "metadata": {},
   "outputs": [],
   "source": []
  }
 ],
 "metadata": {
  "kernelspec": {
   "display_name": "Python 3",
   "language": "python",
   "name": "python3"
  },
  "language_info": {
   "codemirror_mode": {
    "name": "ipython",
    "version": 3
   },
   "file_extension": ".py",
   "mimetype": "text/x-python",
   "name": "python",
   "nbconvert_exporter": "python",
   "pygments_lexer": "ipython3",
   "version": "3.8.3"
  }
 },
 "nbformat": 4,
 "nbformat_minor": 4
}
